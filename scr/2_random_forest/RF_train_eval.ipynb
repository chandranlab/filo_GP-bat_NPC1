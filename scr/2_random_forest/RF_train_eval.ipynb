{
 "cells": [
  {
   "cell_type": "code",
   "execution_count": 1,
   "metadata": {},
   "outputs": [],
   "source": [
    "from sklearn.model_selection import KFold\n",
    "from sklearn.model_selection import cross_val_predict\n",
    "from sklearn.model_selection import cross_val_score\n",
    "from sklearn.metrics import r2_score\n",
    "import matplotlib.pyplot as plt\n",
    "import seaborn as sns"
   ]
  },
  {
   "cell_type": "code",
   "execution_count": null,
   "metadata": {},
   "outputs": [],
   "source": []
  },
  {
   "cell_type": "code",
   "execution_count": 2,
   "metadata": {},
   "outputs": [],
   "source": [
    "# Initialization\n",
    "%run 'ML.ipynb'\n",
    "ml = ML()\n",
    "kf = KFold(n_splits=10, shuffle=True)\n",
    "# plotting\n",
    "plt.ioff()\n",
    "sns.set_style(\"white\")\n",
    "df_cv = pd.DataFrame()\n",
    "df_test = pd.DataFrame()\n",
    "df_llov = pd.DataFrame()"
   ]
  },
  {
   "cell_type": "code",
   "execution_count": 3,
   "metadata": {},
   "outputs": [],
   "source": [
    "# Input files for each model\n",
    "\n",
    "# Model 1\n",
    "m1_params_fl = 'input/model1_params.txt'\n",
    "m1_train_fl = 'input/model1_train.xlsx'\n",
    "m1_test_fl = 'input/model1_test.xlsx'\n",
    "m1_llov_fl = 'input/model1_llov.xlsx'\n",
    "# Model 2\n",
    "m2_params_fl = 'input/model2_params.txt'\n",
    "m2_train_fl = 'input/model2_train.xlsx'\n",
    "m2_test_fl = 'input/model2_test.xlsx'\n",
    "m2_llov_fl = 'input/model2_llov.xlsx'\n",
    "model_ls = ['Model 1', 'Model 2']"
   ]
  },
  {
   "cell_type": "code",
   "execution_count": 4,
   "metadata": {},
   "outputs": [],
   "source": [
    "\n",
    "def model_details(mdl):\n",
    "    if (mdl == 'Model 1'):\n",
    "        return (m1_params_fl, m1_train_fl, m1_test_fl, m1_llov_fl)\n",
    "    elif (model == 'Model 2'):\n",
    "        return (m2_params_fl, m2_train_fl, m2_test_fl, m2_llov_fl)\n",
    "\n",
    "def combine_predictions(df1):\n",
    "    for indx, row in df1.iterrows():\n",
    "        val1 = row['Model 1 Predicted']\n",
    "        val2 = row['Model 2 Predicted']\n",
    "        df1.at[indx, 'Combined Predicted'] = (val1 + val2)/2\n",
    "    return(df1)"
   ]
  },
  {
   "cell_type": "code",
   "execution_count": 5,
   "metadata": {},
   "outputs": [
    {
     "name": "stdout",
     "output_type": "stream",
     "text": [
      "Model 1 R2 (CV)\t0.74 | 0.72 +/- 0.08\n",
      "Model 1 R2 (test)\t0.72\n",
      "Model 1 R2 (LLOV)\t0.67\n",
      "#################\n",
      "Model 2 R2 (CV)\t0.75 | 0.75 +/- 0.07\n",
      "Model 2 R2 (test)\t0.76\n",
      "Model 2 R2 (LLOV)\t0.60\n"
     ]
    }
   ],
   "source": [
    "fig_ls = []\n",
    "for model in model_ls:\n",
    "    if model == 'Model 2':\n",
    "        print(\"#################\")\n",
    "        \n",
    "    m_params_fl, m_train_fl, m_test_fl, m_llov_fl = model_details(model)\n",
    "\n",
    "    # Load RF with params (not trained)\n",
    "    rf = ml.load_ml_params(m_params_fl)\n",
    "    \n",
    "    # Load dataset\n",
    "    X_train, y_train, z_train = ml.load_dataset(m_train_fl)\n",
    "    X_test, y_test, z_test = ml.load_dataset(m_test_fl)\n",
    "    X_llov, y_llov, z_llov = ml.load_dataset(m_llov_fl)\n",
    "    \n",
    "    # 10-fold CV:\n",
    "    y_train_pred = cross_val_predict(rf, X_train, y_train, cv=kf)\n",
    "    r2_cv = r2_score(y_train, y_train_pred)\n",
    "    cv_scores = cross_val_score(rf, X_train, y_train, cv=kf, verbose=0, scoring='r2')\n",
    "    print(f'{model} R2 (CV)\\t{r2_cv:.2f} | {cv_scores.mean():0.2f} +/- {cv_scores.std():0.2f}')\n",
    "    # Storing CV predictions on a DataFrame\n",
    "    for l,p in zip(y_train.index, y_train_pred):\n",
    "        df_cv.at[l, f'Observed'] = y_train[l]\n",
    "        df_cv.at[l, f'{model} Predicted'] = p\n",
    "    # Plot CV\n",
    "    xy_cv = plt.figure(figsize=(5,5))\n",
    "    xy_cv = ml.plot_obs_pred2(y_train, y_train_pred, f'{model} 10-Fold CV', 400, True, xy_cv)\n",
    "    fig_ls.append(xy_cv)    \n",
    "    \n",
    "    # train RF on the entire training dataset\n",
    "    rf.fit(X_train, y_train)\n",
    "\n",
    "    # test\n",
    "    y_test_pred = rf.predict(X_test)\n",
    "    r2_test = r2_score(y_test, y_test_pred)\n",
    "    print(f'{model} R2 (test)\\t{r2_test:.2f}')\n",
    "    # Storing test predictions on a DataFrame\n",
    "    for l,p in zip(y_test.index, y_test_pred):\n",
    "        df_test.at[l, f'Observed'] = y_test[l]\n",
    "        df_test.at[l, f'{model} Predicted'] = p\n",
    "    # Plot test\n",
    "    xy_test = plt.figure(figsize=(5,5))\n",
    "    xy_test = ml.plot_obs_pred2(y_test, y_test_pred, f'{model} Test', 400, True, xy_test)\n",
    "    fig_ls.append(xy_test)\n",
    "    \n",
    "    # llov test\n",
    "    y_llov_pred = rf.predict(X_llov)\n",
    "    r2_llov = r2_score(y_llov, y_llov_pred)\n",
    "    print(f'{model} R2 (LLOV)\\t{r2_llov:.2f}')\n",
    "    # Storing test predictions on a DataFrame\n",
    "    for l,p in zip(y_llov.index, y_llov_pred):\n",
    "        df_llov.at[l, f'Observed'] = y_llov[l]\n",
    "        df_llov.at[l, f'{model} Predicted'] = p\n",
    "    # plot llov\n",
    "    xy_llov = plt.figure(figsize=(5,5))\n",
    "    xy_llov = ml.plot_obs_pred2(y_llov, y_llov_pred, f'{model} LLOV',400, True, xy_llov)   \n",
    "    fig_ls.append(xy_llov)"
   ]
  },
  {
   "cell_type": "code",
   "execution_count": 6,
   "metadata": {},
   "outputs": [
    {
     "name": "stdout",
     "output_type": "stream",
     "text": [
      "Combined model R2 (CV)\t0.76\n",
      "Combined model R2 (test)\t0.75\n",
      "Combined model R2 (LLOV)\t0.69\n"
     ]
    }
   ],
   "source": [
    "# Combine crossvalidation predictions\n",
    "df_cv = combine_predictions(df_cv)\n",
    "r2_cv_comb = r2_score(df_cv['Observed'], df_cv['Combined Predicted'])\n",
    "print(f'Combined model R2 (CV)\\t{r2_cv_comb:.2f}')\n",
    "xy_cv = plt.figure(figsize=(5,5))\n",
    "xy_cv = ml.plot_obs_pred2(df_cv['Observed'], df_cv['Combined Predicted'], \\\n",
    "                            f'Combined CV',400, True, xy_cv) \n",
    "fig_ls.append(xy_cv)\n",
    "\n",
    "# Combine test predictions\n",
    "df_test = combine_predictions(df_test)\n",
    "r2_test_comb = r2_score(df_test['Observed'], df_test['Combined Predicted'])\n",
    "print(f'Combined model R2 (test)\\t{r2_test_comb:.2f}')\n",
    "xy_test = plt.figure(figsize=(5,5))\n",
    "xy_test = ml.plot_obs_pred2(df_test['Observed'], df_test['Combined Predicted'], \\\n",
    "                            f'Combined Test',400, True, xy_test)   \n",
    "fig_ls.append(xy_test)\n",
    "\n",
    "# Combine LLOV predictions\n",
    "df_llov = combine_predictions(df_llov)\n",
    "r2_llov_comb = r2_score(df_llov['Observed'], df_llov['Combined Predicted'])\n",
    "print(f'Combined model R2 (LLOV)\\t{r2_llov_comb:.2f}')\n",
    "xy_llov = plt.figure(figsize=(5,5))\n",
    "xy_llov = ml.plot_obs_pred2(df_llov['Observed'], df_llov['Combined Predicted'], \\\n",
    "                            f'Combined LLOV',400, True, xy_llov)   \n",
    "fig_ls.append(xy_llov)"
   ]
  },
  {
   "cell_type": "code",
   "execution_count": 7,
   "metadata": {},
   "outputs": [],
   "source": [
    "# Model 1 plots\n",
    "display(fig_ls[0])\n",
    "display(fig_ls[1])\n",
    "display(fig_ls[2])"
   ]
  },
  {
   "cell_type": "code",
   "execution_count": 8,
   "metadata": {},
   "outputs": [],
   "source": [
    "# Model 2 plots\n",
    "display(fig_ls[3])\n",
    "display(fig_ls[4])\n",
    "display(fig_ls[5])"
   ]
  },
  {
   "cell_type": "code",
   "execution_count": 9,
   "metadata": {},
   "outputs": [],
   "source": [
    "# Combined model plots\n",
    "display(fig_ls[6])\n",
    "display(fig_ls[7])\n",
    "display(fig_ls[8])"
   ]
  }
 ],
 "metadata": {
  "kernelspec": {
   "display_name": "Python 3",
   "language": "python",
   "name": "python3"
  },
  "language_info": {
   "codemirror_mode": {
    "name": "ipython",
    "version": 3
   },
   "file_extension": ".py",
   "mimetype": "text/x-python",
   "name": "python",
   "nbconvert_exporter": "python",
   "pygments_lexer": "ipython3",
   "version": "3.7.6"
  }
 },
 "nbformat": 4,
 "nbformat_minor": 4
}
