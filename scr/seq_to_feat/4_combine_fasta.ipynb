{
 "cells": [
  {
   "cell_type": "code",
   "execution_count": 1,
   "metadata": {},
   "outputs": [],
   "source": [
    "# Combines two fasta files, pairing members of one file with all other members from the second file\n",
    "# The pairing consists of concatenating both sequences"
   ]
  },
  {
   "cell_type": "code",
   "execution_count": 2,
   "metadata": {},
   "outputs": [],
   "source": [
    "import os\n",
    "import re"
   ]
  },
  {
   "cell_type": "code",
   "execution_count": 3,
   "metadata": {},
   "outputs": [],
   "source": [
    "# input params\n",
    "cutoff = 15\n",
    "ls_except = []\n",
    "rootdir = '/Users/gorkalasso/Documents/GitHub/filo_GP-bat_NPC1/scr/seq_to_feat/'\n",
    "# gpdir = '2_GP_interfacial/'\n",
    "# npc1dir = '2_NPC1_interfacial/'\n",
    "interf_dir = 'output/2_interface_2_fasta/'\n",
    "outdir = '/output/4_GP_NPC1_interfacial/'\n",
    "gpfilename = 'interface_virus_' + str(cutoff) + '.txt'\n",
    "npc1filename = 'interface_host_' + str(cutoff) + '_Bx.txt'\n",
    "gpfile = rootdir + interf_dir + str(cutoff) + '/' + gpfilename\n",
    "npc1file = rootdir + interf_dir + str(cutoff) + '/' + npc1filename\n",
    "outfile = rootdir + outdir + str(cutoff) + '/' + 'interface_combined_' + str(cutoff) + '.txt'\n",
    "# interfacial positions\n",
    "gpposfile = rootdir + interf_dir + str(cutoff) + '/interfpos_virus_' + str(cutoff) + '.txt'\n",
    "npc1posfile = rootdir + interf_dir + str(cutoff) + '/interfpos_host_' + str(cutoff) + '.txt'\n",
    "outposfile = rootdir + outdir + str(cutoff) + '/' + 'interfpos_combined_' + str(cutoff) + '.txt'"
   ]
  },
  {
   "cell_type": "code",
   "execution_count": 4,
   "metadata": {},
   "outputs": [
    {
     "name": "stdout",
     "output_type": "stream",
     "text": [
      "Warning!, directory exists, content will be rewritten\n"
     ]
    }
   ],
   "source": [
    "if os.path.isdir(rootdir + outdir):\n",
    "    print('Warning!, directory exists, content will be rewritten')\n",
    "else:\n",
    "    print('Creating output directory')\n",
    "    os.mkdir(rootdir + outdir)"
   ]
  },
  {
   "cell_type": "code",
   "execution_count": 5,
   "metadata": {},
   "outputs": [],
   "source": [
    "# Functions\n",
    "def Checkfileexists(infile):\n",
    "    print('Checking if file exists:')\n",
    "    print('\\t',infile)\n",
    "    if os.path.isfile(infile):\n",
    "        print('\\t','File exists')\n",
    "    else:\n",
    "        print('\\t','FATAL ERROR: file doesnt exists')\n",
    "\n",
    "def ReadFastaInDictionary(infile, ls):\n",
    "    dc = {}\n",
    "    fl = open(infile,'r')\n",
    "    for ln in fl:\n",
    "        ln = ln.rstrip()\n",
    "#         print(ln)\n",
    "        if ln[0:1] == '>':\n",
    "            head = ln\n",
    "            head = re.sub('[>, ,> ,_GP$]','',head)\n",
    "        else:\n",
    "            seq = ln\n",
    "            if head not in ls:\n",
    "                dc[head] = seq\n",
    "    fl.close()\n",
    "    return(dc)"
   ]
  },
  {
   "cell_type": "code",
   "execution_count": 6,
   "metadata": {},
   "outputs": [
    {
     "name": "stdout",
     "output_type": "stream",
     "text": [
      "Checking if file exists:\n",
      "\t /Users/gorkalasso/Documents/GitHub/filo_GP-bat_NPC1/scr/seq_to_feat/output/2_interface_2_fasta/15/interface_virus_15.txt\n",
      "\t File exists\n",
      "Checking if file exists:\n",
      "\t /Users/gorkalasso/Documents/GitHub/filo_GP-bat_NPC1/scr/seq_to_feat/output/2_interface_2_fasta/15/interface_host_15_Bx.txt\n",
      "\t File exists\n",
      "Checking if file exists:\n",
      "\t /Users/gorkalasso/Documents/GitHub/filo_GP-bat_NPC1/scr/seq_to_feat/output/2_interface_2_fasta/15/interfpos_virus_15.txt\n",
      "\t File exists\n",
      "Checking if file exists:\n",
      "\t /Users/gorkalasso/Documents/GitHub/filo_GP-bat_NPC1/scr/seq_to_feat/output/2_interface_2_fasta/15/interfpos_host_15.txt\n",
      "\t File exists\n"
     ]
    }
   ],
   "source": [
    "Checkfileexists(gpfile)\n",
    "Checkfileexists(npc1file)\n",
    "Checkfileexists(gpposfile)\n",
    "Checkfileexists(npc1posfile)"
   ]
  },
  {
   "cell_type": "code",
   "execution_count": 7,
   "metadata": {},
   "outputs": [
    {
     "name": "stdout",
     "output_type": "stream",
     "text": [
      "Number of GP1s:  8\n",
      "Number of NPC1s:  83\n",
      "Number of combinations: 664\n"
     ]
    }
   ],
   "source": [
    "# Reading fasta into dictionaries\n",
    "dcgp = ReadFastaInDictionary(gpfile, ls_except)\n",
    "print('Number of GP1s: ', str(len(dcgp)))\n",
    "dcnpc1 = ReadFastaInDictionary(npc1file, ls_except)\n",
    "print('Number of NPC1s: ', str(len(dcnpc1)))\n",
    "\n",
    "# Printing combined fasta to file\n",
    "# viral gp + host npc1\n",
    "distdir = rootdir + outdir + str(cutoff) + '/'\n",
    "if not os.path.isdir(distdir):\n",
    "    os.mkdir(distdir)\n",
    "ct = 0\n",
    "outfl = open(outfile, 'w')\n",
    "for head1, seq1 in dcgp.items():\n",
    "    for head2, seq2 in dcnpc1.items():\n",
    "        ct += 1\n",
    "        newhead = '>' + head1 + '|' + head2\n",
    "        newseq = seq1 + seq2\n",
    "        print(newhead, file=outfl)\n",
    "        print(newseq, file=outfl)\n",
    "outfl.close()        \n",
    "print('Number of combinations: ' + str(ct))\n",
    "\n",
    "outfl = open(outposfile, 'w')\n",
    "infh_virus = open(gpposfile, 'r')\n",
    "infh_host = open(npc1posfile, 'r')\n",
    "virpos = infh_virus.readline().rstrip()\n",
    "hostpos = infh_host.readline().rstrip()\n",
    "print(virpos + ', ' + hostpos, file=outfl)\n",
    "outfl.close()\n",
    "infh_virus.close()\n",
    "infh_host.close()"
   ]
  },
  {
   "cell_type": "code",
   "execution_count": 8,
   "metadata": {},
   "outputs": [
    {
     "name": "stdout",
     "output_type": "stream",
     "text": [
      "EBOV\n",
      "BOMV\n",
      "BDBV\n",
      "TAFV\n",
      "RESTV\n",
      "SUDV\n",
      "LLOV\n",
      "MLAV\n"
     ]
    }
   ],
   "source": [
    "for head1, seq1 in dcgp.items():\n",
    "    print(head1)"
   ]
  },
  {
   "cell_type": "code",
   "execution_count": 9,
   "metadata": {},
   "outputs": [
    {
     "name": "stdout",
     "output_type": "stream",
     "text": [
      "Finito\n"
     ]
    }
   ],
   "source": [
    "print('Finito')"
   ]
  },
  {
   "cell_type": "code",
   "execution_count": null,
   "metadata": {},
   "outputs": [],
   "source": []
  }
 ],
 "metadata": {
  "kernelspec": {
   "display_name": "Python 3",
   "language": "python",
   "name": "python3"
  },
  "language_info": {
   "codemirror_mode": {
    "name": "ipython",
    "version": 3
   },
   "file_extension": ".py",
   "mimetype": "text/x-python",
   "name": "python",
   "nbconvert_exporter": "python",
   "pygments_lexer": "ipython3",
   "version": "3.7.6"
  }
 },
 "nbformat": 4,
 "nbformat_minor": 4
}
