{
 "cells": [
  {
   "cell_type": "markdown",
   "metadata": {},
   "source": [
    "Brings together the feature vectors and variable to predict"
   ]
  },
  {
   "cell_type": "code",
   "execution_count": 1,
   "metadata": {},
   "outputs": [],
   "source": [
    "import pandas as pd\n",
    "import os\n",
    "import shutil"
   ]
  },
  {
   "cell_type": "code",
   "execution_count": 3,
   "metadata": {},
   "outputs": [],
   "source": [
    "rootdir = '/Users/gorkalasso/Documents/GitHub/filo_GP-bat_NPC1/scr/seq_to_feat/'\n",
    "var_file = rootdir + 'input/2_auc.txt'\n",
    "inrootdir = rootdir + 'output/5_feature_conversion/'\n",
    "outrootdir0 = 'output/6_var2predict/'\n",
    "outrootdir = outrootdir0 + 'AUC/'"
   ]
  },
  {
   "cell_type": "code",
   "execution_count": 4,
   "metadata": {},
   "outputs": [],
   "source": [
    "# Create rootdir\n",
    "if not os.path.isdir(outrootdir0):\n",
    "    os.mkdir(outrootdir0)\n",
    "if not os.path.exists(outrootdir):\n",
    "    os.mkdir(outrootdir)"
   ]
  },
  {
   "cell_type": "code",
   "execution_count": 5,
   "metadata": {},
   "outputs": [],
   "source": [
    "# load AUC\n",
    "# df_val = pd.DataFrame(columns=['Label', 'AUC'])\n",
    "dc_val = {}\n",
    "fh = open(var_file, 'r')\n",
    "for s in fh:\n",
    "    s = s.rstrip()\n",
    "#     print(s)\n",
    "    pair, val = s.split(' ')\n",
    "    if pair == 'Sample':\n",
    "        continue\n",
    "    pair = pair.replace('_', '|')\n",
    "#     print(pair, val)\n",
    "#     df_val = df_val.append({'Label': pair, 'AUC': val}, ignore_index=True)\n",
    "    dc_val[pair] = val\n",
    "fh.close()\n",
    "# display(df_auc)\n",
    "# print(dc_val)"
   ]
  },
  {
   "cell_type": "code",
   "execution_count": 6,
   "metadata": {},
   "outputs": [],
   "source": [
    "def Addvariable(infl0, outfl0, dc0):\n",
    "    fh_in = open(infl0, 'r')\n",
    "    fh_out = open(outfl0, 'w')\n",
    "    error = 0\n",
    "    for s in fh_in:\n",
    "        s = s.rstrip()\n",
    "        ls = s.split(',')\n",
    "        label = ls[0]\n",
    "        label = label.replace('|dCB','|B')\n",
    "#         print('Label is {}'.format(label))\n",
    "        if label == 'Label':\n",
    "            print(s + ',AUC', file=fh_out)\n",
    "            continue\n",
    "        if label in dc0.keys():\n",
    "            print(s + ',' + dc0[label], file=fh_out)\n",
    "        else:\n",
    "            print('Fatal error, can find AUC for', label)\n",
    "            error = 1\n",
    "            break\n",
    "#         print(label)\n",
    "    fh_in.close()\n",
    "    fh_out.close()\n",
    "    return(error)\n",
    "    "
   ]
  },
  {
   "cell_type": "code",
   "execution_count": 7,
   "metadata": {},
   "outputs": [
    {
     "name": "stdout",
     "output_type": "stream",
     "text": [
      "/Users/gorkalasso/Documents/GitHub/filo_GP-bat_NPC1/scr/seq_to_feat/output/5_feature_conversion/7\t7\n",
      "\t/Users/gorkalasso/Documents/GitHub/filo_GP-bat_NPC1/scr/seq_to_feat/output/5_feature_conversion/7/INTER_H\t<DirEntry 'INTER_H'>\n",
      "\t\t/Users/gorkalasso/Documents/GitHub/filo_GP-bat_NPC1/scr/seq_to_feat/output/5_feature_conversion/7/INTER_H/7_INTER_H.txt\t7_INTER_H.txt\n",
      "\t\tOK!\n",
      "\t/Users/gorkalasso/Documents/GitHub/filo_GP-bat_NPC1/scr/seq_to_feat/output/5_feature_conversion/7/COIL\t<DirEntry 'COIL'>\n",
      "\t\t/Users/gorkalasso/Documents/GitHub/filo_GP-bat_NPC1/scr/seq_to_feat/output/5_feature_conversion/7/COIL/7_COIL.txt\t7_COIL.txt\n",
      "\t\tOK!\n",
      "\t/Users/gorkalasso/Documents/GitHub/filo_GP-bat_NPC1/scr/seq_to_feat/output/5_feature_conversion/7/BULK\t<DirEntry 'BULK'>\n",
      "\t\t/Users/gorkalasso/Documents/GitHub/filo_GP-bat_NPC1/scr/seq_to_feat/output/5_feature_conversion/7/BULK/7_BULK.txt\t7_BULK.txt\n",
      "\t\tOK!\n",
      "\t/Users/gorkalasso/Documents/GitHub/filo_GP-bat_NPC1/scr/seq_to_feat/output/5_feature_conversion/7/CHARGE\t<DirEntry 'CHARGE'>\n",
      "\t\t/Users/gorkalasso/Documents/GitHub/filo_GP-bat_NPC1/scr/seq_to_feat/output/5_feature_conversion/7/CHARGE/7_CHARGE.txt\t7_CHARGE.txt\n",
      "\t\tOK!\n",
      "\t/Users/gorkalasso/Documents/GitHub/filo_GP-bat_NPC1/scr/seq_to_feat/output/5_feature_conversion/7/AROM\t<DirEntry 'AROM'>\n",
      "\t\t/Users/gorkalasso/Documents/GitHub/filo_GP-bat_NPC1/scr/seq_to_feat/output/5_feature_conversion/7/AROM/7_AROM.txt\t7_AROM.txt\n",
      "\t\tOK!\n",
      "\t/Users/gorkalasso/Documents/GitHub/filo_GP-bat_NPC1/scr/seq_to_feat/output/5_feature_conversion/7/HYDRO_KD\t<DirEntry 'HYDRO_KD'>\n",
      "\t\t/Users/gorkalasso/Documents/GitHub/filo_GP-bat_NPC1/scr/seq_to_feat/output/5_feature_conversion/7/HYDRO_KD/7_HYDRO_KD.txt\t7_HYDRO_KD.txt\n",
      "\t\tOK!\n",
      "\t/Users/gorkalasso/Documents/GitHub/filo_GP-bat_NPC1/scr/seq_to_feat/output/5_feature_conversion/7/POL_G\t<DirEntry 'POL_G'>\n",
      "\t\t/Users/gorkalasso/Documents/GitHub/filo_GP-bat_NPC1/scr/seq_to_feat/output/5_feature_conversion/7/POL_G/7_POL_G.txt\t7_POL_G.txt\n",
      "\t\tOK!\n",
      "\t/Users/gorkalasso/Documents/GitHub/filo_GP-bat_NPC1/scr/seq_to_feat/output/5_feature_conversion/7/MOLWEI\t<DirEntry 'MOLWEI'>\n",
      "\t\t/Users/gorkalasso/Documents/GitHub/filo_GP-bat_NPC1/scr/seq_to_feat/output/5_feature_conversion/7/MOLWEI/7_MOLWEI.txt\t7_MOLWEI.txt\n",
      "\t\tOK!\n",
      "\t/Users/gorkalasso/Documents/GitHub/filo_GP-bat_NPC1/scr/seq_to_feat/output/5_feature_conversion/7/ASA_T\t<DirEntry 'ASA_T'>\n",
      "\t\t/Users/gorkalasso/Documents/GitHub/filo_GP-bat_NPC1/scr/seq_to_feat/output/5_feature_conversion/7/ASA_T/7_ASA_T.txt\t7_ASA_T.txt\n",
      "\t\tOK!\n",
      "\t/Users/gorkalasso/Documents/GitHub/filo_GP-bat_NPC1/scr/seq_to_feat/output/5_feature_conversion/7/FLEX\t<DirEntry 'FLEX'>\n",
      "\t\t/Users/gorkalasso/Documents/GitHub/filo_GP-bat_NPC1/scr/seq_to_feat/output/5_feature_conversion/7/FLEX/7_FLEX.txt\t7_FLEX.txt\n",
      "\t\tOK!\n",
      "\n",
      "/Users/gorkalasso/Documents/GitHub/filo_GP-bat_NPC1/scr/seq_to_feat/output/5_feature_conversion/logs\tlogs\n",
      "\n",
      "/Users/gorkalasso/Documents/GitHub/filo_GP-bat_NPC1/scr/seq_to_feat/output/5_feature_conversion/15\t15\n",
      "\t/Users/gorkalasso/Documents/GitHub/filo_GP-bat_NPC1/scr/seq_to_feat/output/5_feature_conversion/15/INTER_H\t<DirEntry 'INTER_H'>\n",
      "\t\t/Users/gorkalasso/Documents/GitHub/filo_GP-bat_NPC1/scr/seq_to_feat/output/5_feature_conversion/15/INTER_H/15_INTER_H.txt\t15_INTER_H.txt\n",
      "\t\tOK!\n",
      "\t/Users/gorkalasso/Documents/GitHub/filo_GP-bat_NPC1/scr/seq_to_feat/output/5_feature_conversion/15/COIL\t<DirEntry 'COIL'>\n",
      "\t\t/Users/gorkalasso/Documents/GitHub/filo_GP-bat_NPC1/scr/seq_to_feat/output/5_feature_conversion/15/COIL/15_COIL.txt\t15_COIL.txt\n",
      "\t\tOK!\n",
      "\t/Users/gorkalasso/Documents/GitHub/filo_GP-bat_NPC1/scr/seq_to_feat/output/5_feature_conversion/15/BULK\t<DirEntry 'BULK'>\n",
      "\t\t/Users/gorkalasso/Documents/GitHub/filo_GP-bat_NPC1/scr/seq_to_feat/output/5_feature_conversion/15/BULK/15_BULK.txt\t15_BULK.txt\n",
      "\t\tOK!\n",
      "\t/Users/gorkalasso/Documents/GitHub/filo_GP-bat_NPC1/scr/seq_to_feat/output/5_feature_conversion/15/CHARGE\t<DirEntry 'CHARGE'>\n",
      "\t\t/Users/gorkalasso/Documents/GitHub/filo_GP-bat_NPC1/scr/seq_to_feat/output/5_feature_conversion/15/CHARGE/15_CHARGE.txt\t15_CHARGE.txt\n",
      "\t\tOK!\n",
      "\t/Users/gorkalasso/Documents/GitHub/filo_GP-bat_NPC1/scr/seq_to_feat/output/5_feature_conversion/15/AROM\t<DirEntry 'AROM'>\n",
      "\t\t/Users/gorkalasso/Documents/GitHub/filo_GP-bat_NPC1/scr/seq_to_feat/output/5_feature_conversion/15/AROM/15_AROM.txt\t15_AROM.txt\n",
      "\t\tOK!\n",
      "\t/Users/gorkalasso/Documents/GitHub/filo_GP-bat_NPC1/scr/seq_to_feat/output/5_feature_conversion/15/HYDRO_KD\t<DirEntry 'HYDRO_KD'>\n",
      "\t\t/Users/gorkalasso/Documents/GitHub/filo_GP-bat_NPC1/scr/seq_to_feat/output/5_feature_conversion/15/HYDRO_KD/15_HYDRO_KD.txt\t15_HYDRO_KD.txt\n",
      "\t\tOK!\n",
      "\t/Users/gorkalasso/Documents/GitHub/filo_GP-bat_NPC1/scr/seq_to_feat/output/5_feature_conversion/15/POL_G\t<DirEntry 'POL_G'>\n",
      "\t\t/Users/gorkalasso/Documents/GitHub/filo_GP-bat_NPC1/scr/seq_to_feat/output/5_feature_conversion/15/POL_G/15_POL_G.txt\t15_POL_G.txt\n",
      "\t\tOK!\n",
      "\t/Users/gorkalasso/Documents/GitHub/filo_GP-bat_NPC1/scr/seq_to_feat/output/5_feature_conversion/15/MOLWEI\t<DirEntry 'MOLWEI'>\n",
      "\t\t/Users/gorkalasso/Documents/GitHub/filo_GP-bat_NPC1/scr/seq_to_feat/output/5_feature_conversion/15/MOLWEI/15_MOLWEI.txt\t15_MOLWEI.txt\n",
      "\t\tOK!\n",
      "\t/Users/gorkalasso/Documents/GitHub/filo_GP-bat_NPC1/scr/seq_to_feat/output/5_feature_conversion/15/ASA_T\t<DirEntry 'ASA_T'>\n",
      "\t\t/Users/gorkalasso/Documents/GitHub/filo_GP-bat_NPC1/scr/seq_to_feat/output/5_feature_conversion/15/ASA_T/15_ASA_T.txt\t15_ASA_T.txt\n",
      "\t\tOK!\n",
      "\t/Users/gorkalasso/Documents/GitHub/filo_GP-bat_NPC1/scr/seq_to_feat/output/5_feature_conversion/15/FLEX\t<DirEntry 'FLEX'>\n",
      "\t\t/Users/gorkalasso/Documents/GitHub/filo_GP-bat_NPC1/scr/seq_to_feat/output/5_feature_conversion/15/FLEX/15_FLEX.txt\t15_FLEX.txt\n",
      "\t\tOK!\n",
      "\n"
     ]
    }
   ],
   "source": [
    "for f0 in os.scandir(inrootdir):\n",
    "    if not f0.is_dir():\n",
    "        continue\n",
    "    print(f0.path, f0.name, sep='\\t')\n",
    "    outdir0 = outrootdir + f0.name + '/'\n",
    "    if not os.path.exists(outdir0):\n",
    "        os.mkdir(outdir0)\n",
    "    for f1 in os.scandir(f0.path):\n",
    "        if not f1.is_dir():\n",
    "            continue\n",
    "        print('', f1.path, f1, sep='\\t')\n",
    "        outdir1 = outdir0 + f1.name + '/'\n",
    "        if not os.path.exists(outdir1):\n",
    "            os.mkdir(outdir1)\n",
    "        for f2 in os.scandir(f1.path):\n",
    "            if '.log' in f2.path:\n",
    "                continue\n",
    "            if not os.path.isfile(f2.path):\n",
    "                continue\n",
    "            print('','',f2.path, f2.name, sep='\\t')\n",
    "            infile = f2.path\n",
    "            outfile = outdir1 + f2.name\n",
    "            error = Addvariable(infile, outfile, dc_val)\n",
    "            if error == 1:\n",
    "                break\n",
    "        if error ==1:\n",
    "            print('Code stopped')\n",
    "            break\n",
    "        else:\n",
    "            print('\\t\\tOK!')\n",
    "    print()"
   ]
  },
  {
   "cell_type": "code",
   "execution_count": null,
   "metadata": {},
   "outputs": [],
   "source": []
  }
 ],
 "metadata": {
  "kernelspec": {
   "display_name": "Python 3",
   "language": "python",
   "name": "python3"
  },
  "language_info": {
   "codemirror_mode": {
    "name": "ipython",
    "version": 3
   },
   "file_extension": ".py",
   "mimetype": "text/x-python",
   "name": "python",
   "nbconvert_exporter": "python",
   "pygments_lexer": "ipython3",
   "version": "3.7.6"
  }
 },
 "nbformat": 4,
 "nbformat_minor": 4
}
